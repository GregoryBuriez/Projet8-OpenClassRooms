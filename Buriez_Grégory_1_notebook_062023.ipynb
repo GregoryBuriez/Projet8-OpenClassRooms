{
 "cells": [
  {
   "cell_type": "markdown",
   "id": "7b0aaaca",
   "metadata": {},
   "source": [
    "# Projet 8 : Déployez un modèle dans le cloud\n",
    "\n",
    "Vous êtes Data Scientist dans une très jeune start-up de l'AgriTech, nommée  \"Fruits!\", qui cherche à proposer des solutions innovantes pour la récolte des fruits.\n",
    "\n",
    "La volonté de l’entreprise est de préserver la biodiversité des fruits en permettant des traitements spécifiques pour chaque espèce de fruits en développant des robots cueilleurs intelligents.\n",
    "\n",
    "\n",
    "Votre start-up souhaite dans un premier temps se faire connaître en mettant à disposition du grand public une application mobile qui permettrait aux utilisateurs de prendre en photo un fruit et d'obtenir des informations sur ce fruit.\n",
    "\n",
    "Pour la start-up, cette application permettrait de sensibiliser le grand public à la biodiversité des fruits et de mettre en place une première version du moteur de classification des images de fruits.\n",
    "\n",
    "De plus, le développement de l’application mobile permettra de construire une première version de l'architecture Big Data nécessaire.\n",
    "\n",
    "\n",
    "\n",
    "Votre mission :\n",
    "\n",
    "- Vous êtes donc chargé de vous approprier les travaux réalisés par l’alternant et de compléter la chaîne de traitement.\n",
    "\n",
    "- Il n’est pas nécessaire d’entraîner un modèle pour le moment.\n",
    "\n",
    "- L’important est de mettre en place les premières briques de traitement qui serviront lorsqu’il faudra passer à l’échelle en termes de volume de données !"
   ]
  },
  {
   "cell_type": "markdown",
   "id": "e7986881",
   "metadata": {},
   "source": [
    "# Sommaire\n",
    "\n",
    "## I. Importation\n",
    "### 1. Importation des bibliothèques\n",
    "### 2. Importation des données\n",
    "\n",
    "## II. Preprocessing et extraction des features\n",
    "### 1. Préparation des fonctions d'extraction et de redimensionnements\n",
    "### 2. Extraction des features\n",
    "\n",
    "## III. ACP\n",
    "### 1. Standardisation\n",
    "### 2. ACP\n",
    "### 3. Sauvegarde des données\n",
    "\n",
    "## IV. Conclusion"
   ]
  },
  {
   "cell_type": "markdown",
   "id": "6eb91aee",
   "metadata": {},
   "source": [
    "## I. Importation"
   ]
  },
  {
   "cell_type": "markdown",
   "id": "c241db34",
   "metadata": {},
   "source": [
    "### 1. Importation des bibliothèques"
   ]
  },
  {
   "cell_type": "code",
   "execution_count": 1,
   "id": "8c505504",
   "metadata": {},
   "outputs": [
    {
     "name": "stdout",
     "output_type": "stream",
     "text": [
      "Starting Spark application\n"
     ]
    },
    {
     "data": {
      "text/html": [
       "<table>\n",
       "<tr><th>ID</th><th>YARN Application ID</th><th>Kind</th><th>State</th><th>Spark UI</th><th>Driver log</th><th>User</th><th>Current session?</th></tr><tr><td>10</td><td>application_1689700020656_0011</td><td>pyspark</td><td>idle</td><td><a target=\"_blank\" href=\"http://ip-172-31-31-167.eu-west-3.compute.internal:20888/proxy/application_1689700020656_0011/\">Link</a></td><td><a target=\"_blank\" href=\"http://ip-172-31-24-212.eu-west-3.compute.internal:8042/node/containerlogs/container_1689700020656_0011_01_000001/livy\">Link</a></td><td>None</td><td>✔</td></tr></table>"
      ],
      "text/plain": [
       "<IPython.core.display.HTML object>"
      ]
     },
     "metadata": {},
     "output_type": "display_data"
    },
    {
     "data": {
      "application/vnd.jupyter.widget-view+json": {
       "model_id": "",
       "version_major": 2,
       "version_minor": 0
      },
      "text/plain": [
       "FloatProgress(value=0.0, bar_style='info', description='Progress:', layout=Layout(height='25px', width='50%'),…"
      ]
     },
     "metadata": {},
     "output_type": "display_data"
    },
    {
     "name": "stdout",
     "output_type": "stream",
     "text": [
      "SparkSession available as 'spark'.\n"
     ]
    },
    {
     "data": {
      "application/vnd.jupyter.widget-view+json": {
       "model_id": "",
       "version_major": 2,
       "version_minor": 0
      },
      "text/plain": [
       "FloatProgress(value=0.0, bar_style='info', description='Progress:', layout=Layout(height='25px', width='50%'),…"
      ]
     },
     "metadata": {},
     "output_type": "display_data"
    }
   ],
   "source": [
    "\n",
    "import time\n",
    "import os\n",
    "import io\n",
    "import numpy as np\n",
    "import pandas as pd\n",
    "from PIL import Image, ImageOps\n",
    "import matplotlib.pyplot as plt\n",
    "import pyarrow\n",
    "import pandas as pd\n",
    "import subprocess\n",
    "\n",
    "\n",
    "\n",
    "# Oyspark\n",
    "import pyspark \n",
    "from pyspark.sql.functions import *\n",
    "from pyspark.sql import SparkSession\n",
    "from pyspark import SparkContext, SparkConf\n",
    "from pyspark.sql.functions import col, pandas_udf, PandasUDFType, split\n",
    "from pyspark.ml.linalg import Vectors, VectorUDT\n",
    "from pyspark.sql.functions import udf\n",
    "from pyspark.ml.feature import StringIndexer, StandardScaler\n",
    "from pyspark.ml.feature import PCA\n",
    "\n",
    "# Tensorflow\n",
    "from tensorflow.keras.applications.resnet50 import ResNet50, preprocess_input\n",
    "from tensorflow.keras.preprocessing.image import img_to_array\n",
    "\n",
    "# Divers\n",
    "import warnings\n",
    "warnings.filterwarnings(\"ignore\", category=np.VisibleDeprecationWarning) \n",
    "import warnings\n",
    "import logging\n",
    "logging.disable(logging.WARNING)\n",
    "warnings.filterwarnings('ignore')\n"
   ]
  },
  {
   "cell_type": "markdown",
   "id": "91a5168b",
   "metadata": {},
   "source": [
    "### 2. Importation des données"
   ]
  },
  {
   "cell_type": "code",
   "execution_count": 2,
   "id": "aac1fdd7",
   "metadata": {},
   "outputs": [
    {
     "data": {
      "application/vnd.jupyter.widget-view+json": {
       "model_id": "",
       "version_major": 2,
       "version_minor": 0
      },
      "text/plain": [
       "FloatProgress(value=0.0, bar_style='info', description='Progress:', layout=Layout(height='25px', width='50%'),…"
      ]
     },
     "metadata": {},
     "output_type": "display_data"
    },
    {
     "name": "stdout",
     "output_type": "stream",
     "text": [
      "PATH:        s3://projet8buriez\n",
      "PATH_Data:   s3://projet8buriez/Donnees/\n",
      "PATH_Result: s3://projet8buriez/Donnees//Results/"
     ]
    }
   ],
   "source": [
    "# Importation avec le Path\n",
    "\n",
    "PATH = 's3://projet8buriez'\n",
    "PATH_Data = PATH+'/Donnees/'\n",
    "PATH_Result = PATH_Data+'/Results/'\n",
    "print('PATH:        '+\\\n",
    "      PATH+'\\nPATH_Data:   '+\\\n",
    "      PATH_Data+'\\nPATH_Result: '+PATH_Result)"
   ]
  },
  {
   "cell_type": "code",
   "execution_count": 3,
   "id": "24e9d1ea",
   "metadata": {},
   "outputs": [
    {
     "data": {
      "application/vnd.jupyter.widget-view+json": {
       "model_id": "",
       "version_major": 2,
       "version_minor": 0
      },
      "text/plain": [
       "FloatProgress(value=0.0, bar_style='info', description='Progress:', layout=Layout(height='25px', width='50%'),…"
      ]
     },
     "metadata": {},
     "output_type": "display_data"
    }
   ],
   "source": [
    "# Importation des images avec le format .jpg\n",
    "\n",
    "images = spark.read.format(\"binaryFile\") \\\n",
    "  .option(\"pathGlobFilter\", \"*.jpg\") \\\n",
    "  .option(\"recursiveFileLookup\", \"true\") \\\n",
    "  .load(PATH_Result)"
   ]
  },
  {
   "cell_type": "code",
   "execution_count": 4,
   "id": "e158c2cf",
   "metadata": {},
   "outputs": [
    {
     "data": {
      "application/vnd.jupyter.widget-view+json": {
       "model_id": "",
       "version_major": 2,
       "version_minor": 0
      },
      "text/plain": [
       "FloatProgress(value=0.0, bar_style='info', description='Progress:', layout=Layout(height='25px', width='50%'),…"
      ]
     },
     "metadata": {},
     "output_type": "display_data"
    },
    {
     "name": "stdout",
     "output_type": "stream",
     "text": [
      "root\n",
      " |-- path: string (nullable = true)\n",
      " |-- modificationTime: timestamp (nullable = true)\n",
      " |-- length: long (nullable = true)\n",
      " |-- content: binary (nullable = true)\n",
      " |-- label: string (nullable = true)\n",
      "\n",
      "None\n",
      "+---------------------------------------------------------------+--------------+\n",
      "|path                                                           |label         |\n",
      "+---------------------------------------------------------------+--------------+\n",
      "|s3://projet8buriez/Donnees/Results/Apple Braeburn/r_146_100.jpg|Apple Braeburn|\n",
      "|s3://projet8buriez/Donnees/Results/Apple Braeburn/r_12_100.jpg |Apple Braeburn|\n",
      "|s3://projet8buriez/Donnees/Results/Cocos/r_56_100.jpg          |Cocos         |\n",
      "|s3://projet8buriez/Donnees/Results/Cocos/r_153_100.jpg         |Cocos         |\n",
      "|s3://projet8buriez/Donnees/Results/Cocos/r_127_100.jpg         |Cocos         |\n",
      "+---------------------------------------------------------------+--------------+\n",
      "only showing top 5 rows\n",
      "\n",
      "None\n",
      "Nous avons 80 dans notre dataframe"
     ]
    }
   ],
   "source": [
    "# Vérification du jeu de données et ajout du label\n",
    "\n",
    "images = images.withColumn('label', element_at(split(images['path'], '/'),-2))\n",
    "print(images.printSchema())\n",
    "print(images.select('path','label').show(5,False))\n",
    "print('Nous avons', images.count(), 'dans notre dataframe')"
   ]
  },
  {
   "cell_type": "markdown",
   "id": "1863af6a",
   "metadata": {},
   "source": [
    "Comme nous pouvons le constater, notre première étape, à savoir l'importation des bibliothèques et l'importation de notre jeu de données avec le label ont parfaitement fonctionné.\n",
    "Nous remarquons également que nos données bénéficient d'un label et que l'ensemble du panel que nous avons créé est chargé.\n",
    "\n",
    "A présent, nous allons procéder à l'étape de préparation de notre modèle"
   ]
  },
  {
   "cell_type": "markdown",
   "id": "75abc821",
   "metadata": {},
   "source": [
    "## II. Preprocessing et extraction des features\n",
    "### 1. Préparation des fonctions d'extraction et de redimensionnements"
   ]
  },
  {
   "cell_type": "markdown",
   "id": "88422516",
   "metadata": {},
   "source": [
    "Dans cette seconde étape, l'objectif sera tout simplement de procéder à la création de notre modèle. Le but de ce dernier étant de permettre une extraction des features.\n",
    "\n",
    "Afin de réaliser cette étape, nous allons prendre la décision d'utiliser un modèle de RESNET50 dans le cadre d'un modèle de Transfer Learning.\n",
    "\n",
    "Dans le cadre du projet initial, le modèle utilisé est un MobileNetV2, nous avons pris l'optique d'entraîner un modèle avec un nombre de paramètres plus important."
   ]
  },
  {
   "cell_type": "code",
   "execution_count": 5,
   "id": "a19f6f12",
   "metadata": {},
   "outputs": [
    {
     "data": {
      "application/vnd.jupyter.widget-view+json": {
       "model_id": "",
       "version_major": 2,
       "version_minor": 0
      },
      "text/plain": [
       "FloatProgress(value=0.0, bar_style='info', description='Progress:', layout=Layout(height='25px', width='50%'),…"
      ]
     },
     "metadata": {},
     "output_type": "display_data"
    }
   ],
   "source": [
    "def model_fn():\n",
    "    \"\"\"\n",
    "    Returns a ResNet50 model with top layer removed and broadcasted pretrained weights.\n",
    "    \"\"\"\n",
    "    model = ResNet50(weights=None, include_top=False) \n",
    "    model.set_weights(bc_model_weights.value)\n",
    "    return model"
   ]
  },
  {
   "cell_type": "code",
   "execution_count": 6,
   "id": "651b157d",
   "metadata": {},
   "outputs": [
    {
     "data": {
      "application/vnd.jupyter.widget-view+json": {
       "model_id": "",
       "version_major": 2,
       "version_minor": 0
      },
      "text/plain": [
       "FloatProgress(value=0.0, bar_style='info', description='Progress:', layout=Layout(height='25px', width='50%'),…"
      ]
     },
     "metadata": {},
     "output_type": "display_data"
    }
   ],
   "source": [
    "def preprocess(content):\n",
    "    \"\"\"\n",
    "    Preprocesses raw image bytes for prediction.\n",
    "    \"\"\"\n",
    "    img = Image.open(io.BytesIO(content)).resize([224, 224])\n",
    "    arr = img_to_array(img)\n",
    "    return preprocess_input(arr) "
   ]
  },
  {
   "cell_type": "code",
   "execution_count": 7,
   "id": "e297151f",
   "metadata": {},
   "outputs": [
    {
     "data": {
      "application/vnd.jupyter.widget-view+json": {
       "model_id": "",
       "version_major": 2,
       "version_minor": 0
      },
      "text/plain": [
       "FloatProgress(value=0.0, bar_style='info', description='Progress:', layout=Layout(height='25px', width='50%'),…"
      ]
     },
     "metadata": {},
     "output_type": "display_data"
    }
   ],
   "source": [
    "def featurize_series(model, content_series):\n",
    "    \n",
    "    \"\"\"\n",
    "    Featurize a pd.Series of raw images using the input model.\n",
    "    :return: a pd.Series of image features\n",
    "    \"\"\"\n",
    "    \n",
    "    input = np.stack(content_series.map(preprocess)) \n",
    "    preds = model.predict(input)\n",
    "    output = [p.flatten() for p in preds]\n",
    "    return pd.Series(output)"
   ]
  },
  {
   "cell_type": "code",
   "execution_count": 8,
   "id": "8066716c",
   "metadata": {},
   "outputs": [
    {
     "data": {
      "application/vnd.jupyter.widget-view+json": {
       "model_id": "",
       "version_major": 2,
       "version_minor": 0
      },
      "text/plain": [
       "FloatProgress(value=0.0, bar_style='info', description='Progress:', layout=Layout(height='25px', width='50%'),…"
      ]
     },
     "metadata": {},
     "output_type": "display_data"
    },
    {
     "data": {
      "image/png": "[encoded data removed]",
      "text/plain": [
       "<IPython.core.display.Image object>"
      ]
     },
     "metadata": {},
     "output_type": "display_data"
    }
   ],
   "source": [
    "# Graphique pour représenter avant et après redimensionnement.\n",
    "\n",
    "img = images.first()[\"content\"]\n",
    "fig, axs = plt.subplots(1, 2)\n",
    "axs[0].imshow(Image.open(io.BytesIO(img)))\n",
    "axs[0].set_title('Avant traitement')\n",
    "axs[1].imshow(preprocess(img))\n",
    "axs[1].set_title('Apres traitement')\n",
    "plt.show()\n",
    "\n",
    "# pour afficher plot sur notebook EMR\n",
    "%matplot plt"
   ]
  },
  {
   "cell_type": "code",
   "execution_count": 9,
   "id": "471fe523",
   "metadata": {},
   "outputs": [
    {
     "data": {
      "application/vnd.jupyter.widget-view+json": {
       "model_id": "",
       "version_major": 2,
       "version_minor": 0
      },
      "text/plain": [
       "FloatProgress(value=0.0, bar_style='info', description='Progress:', layout=Layout(height='25px', width='50%'),…"
      ]
     },
     "metadata": {},
     "output_type": "display_data"
    }
   ],
   "source": [
    "@pandas_udf('array<float>', PandasUDFType.SCALAR_ITER)\n",
    "def featurize_udf(content_series_iter):\n",
    "    '''\n",
    "    This method is a Scalar Iterator pandas UDF wrapping our featurization function.\n",
    "    The decorator specifies that this returns a Spark DataFrame column of type ArrayType(FloatType).\n",
    "  \n",
    "    :param content_series_iter: This argument is an iterator over batches of data, where each batch\n",
    "                                is a pandas Series of image data.\n",
    "    '''\n",
    "    model = model_fn()\n",
    "    for content_series in content_series_iter:\n",
    "        yield featurize_series(model, content_series)"
   ]
  },
  {
   "cell_type": "markdown",
   "id": "8fea7958",
   "metadata": {},
   "source": [
    "### 2. Extraction des features"
   ]
  },
  {
   "cell_type": "code",
   "execution_count": 10,
   "id": "0b61a7bc",
   "metadata": {},
   "outputs": [
    {
     "data": {
      "application/vnd.jupyter.widget-view+json": {
       "model_id": "",
       "version_major": 2,
       "version_minor": 0
      },
      "text/plain": [
       "FloatProgress(value=0.0, bar_style='info', description='Progress:', layout=Layout(height='25px', width='50%'),…"
      ]
     },
     "metadata": {},
     "output_type": "display_data"
    }
   ],
   "source": [
    "# Chargement du modèle\n",
    "model = ResNet50(include_top=False)"
   ]
  },
  {
   "cell_type": "code",
   "execution_count": 11,
   "id": "805dc614",
   "metadata": {},
   "outputs": [
    {
     "data": {
      "application/vnd.jupyter.widget-view+json": {
       "model_id": "",
       "version_major": 2,
       "version_minor": 0
      },
      "text/plain": [
       "FloatProgress(value=0.0, bar_style='info', description='Progress:', layout=Layout(height='25px', width='50%'),…"
      ]
     },
     "metadata": {},
     "output_type": "display_data"
    }
   ],
   "source": [
    "#variable de diffusion. Les variables de diffusion permettent au programmeur de conserver une variable en lecture seule en cache sur chaque machine plutôt que d'en expédier une copie avec les tâches. Ils peuvent être utilisés, par exemple, pour donner à chaque nœud une copie d'un grand ensemble de données d'entrée de manière efficace. Spark tente également de distribuer des variables de diffusion à l'aide d'algorithmes de diffusion efficaces pour réduire les coûts de communication.\n",
    "\n",
    "bc_model_weights = spark.sparkContext.broadcast(model.get_weights()) "
   ]
  },
  {
   "cell_type": "code",
   "execution_count": 12,
   "id": "0fbc1db4",
   "metadata": {},
   "outputs": [
    {
     "data": {
      "application/vnd.jupyter.widget-view+json": {
       "model_id": "",
       "version_major": 2,
       "version_minor": 0
      },
      "text/plain": [
       "FloatProgress(value=0.0, bar_style='info', description='Progress:', layout=Layout(height='25px', width='50%'),…"
      ]
     },
     "metadata": {},
     "output_type": "display_data"
    },
    {
     "name": "stdout",
     "output_type": "stream",
     "text": [
      "root\n",
      " |-- path: string (nullable = true)\n",
      " |-- label: string (nullable = true)\n",
      " |-- features: array (nullable = true)\n",
      " |    |-- element: float (containsNull = true)"
     ]
    }
   ],
   "source": [
    "# Appliquer la feature_udf sur content\n",
    "\n",
    "df_features_extraction = images.select(col(\"path\"), col(\"label\"), featurize_udf(\"content\").alias(\"features\"))\n",
    "df_features_extraction.printSchema()"
   ]
  },
  {
   "cell_type": "code",
   "execution_count": 13,
   "id": "cccdb8e4",
   "metadata": {},
   "outputs": [
    {
     "data": {
      "application/vnd.jupyter.widget-view+json": {
       "model_id": "",
       "version_major": 2,
       "version_minor": 0
      },
      "text/plain": [
       "FloatProgress(value=0.0, bar_style='info', description='Progress:', layout=Layout(height='25px', width='50%'),…"
      ]
     },
     "metadata": {},
     "output_type": "display_data"
    },
    {
     "name": "stdout",
     "output_type": "stream",
     "text": [
      "+--------------------+--------------+--------------------+\n",
      "|                path|         label|            features|\n",
      "+--------------------+--------------+--------------------+\n",
      "|s3://projet8burie...|Apple Braeburn|[0.0, 0.0, 0.0, 0...|\n",
      "|s3://projet8burie...|Apple Braeburn|[0.0, 0.0, 0.0, 0...|\n",
      "|s3://projet8burie...|         Cocos|[0.0, 0.0, 0.0, 0...|\n",
      "|s3://projet8burie...|         Cocos|[0.0, 0.0, 0.0, 0...|\n",
      "|s3://projet8burie...|         Cocos|[0.0, 0.0, 0.0, 0...|\n",
      "+--------------------+--------------+--------------------+\n",
      "only showing top 5 rows"
     ]
    }
   ],
   "source": [
    "# afficher la features extractions Resnet50\n",
    "df_features_extraction.show(5)"
   ]
  },
  {
   "cell_type": "markdown",
   "id": "ebe585d8",
   "metadata": {},
   "source": [
    "Notre jeu de données présentent bien notre path, le label et notre extraction des features.\n",
    "\n",
    "A présent, nous allons juste transformer notre variable features en format 'vecteur'.\n",
    "Ce format sera essentiel lors de notre ACP."
   ]
  },
  {
   "cell_type": "code",
   "execution_count": 14,
   "id": "1127c2d7",
   "metadata": {},
   "outputs": [
    {
     "data": {
      "application/vnd.jupyter.widget-view+json": {
       "model_id": "",
       "version_major": 2,
       "version_minor": 0
      },
      "text/plain": [
       "FloatProgress(value=0.0, bar_style='info', description='Progress:', layout=Layout(height='25px', width='50%'),…"
      ]
     },
     "metadata": {},
     "output_type": "display_data"
    }
   ],
   "source": [
    "# transform to vector \n",
    "to_vector = udf(lambda x: Vectors.dense(x), VectorUDT())\n",
    "df_features_extraction_1 = df_features_extraction.select(col(\"path\"),  col(\"label\"), to_vector(df_features_extraction[\"features\"]).alias(\"features\")) "
   ]
  },
  {
   "cell_type": "code",
   "execution_count": null,
   "id": "cad66eb9",
   "metadata": {},
   "outputs": [],
   "source": []
  },
  {
   "cell_type": "markdown",
   "id": "3372459c",
   "metadata": {},
   "source": [
    "## III. ACP"
   ]
  },
  {
   "cell_type": "markdown",
   "id": "197e494c",
   "metadata": {},
   "source": [
    "### 1. Standardisation"
   ]
  },
  {
   "cell_type": "markdown",
   "id": "07fcb089",
   "metadata": {},
   "source": [
    "Dans le cadre de notre ACP, nous souhaitons procéder à une standardisation des données, voici notamment les différentes raisons de notre choi\n",
    "\n",
    "- Égaliser les échelles des features : Lorsque vous utilisez un modèle de Transfer Learning pré-entraîné, les features extraites peuvent avoir des échelles différentes. La standardisation permet de mettre toutes les features à la même échelle, en éliminant les différences de magnitude entre les valeurs. Cela est important pour l'ACP, car cette méthode repose sur les variances des features pour déterminer leur importance relative.\n",
    "\n",
    "- Éviter une dominance des features : Si certaines features ont des échelles beaucoup plus grandes que d'autres, elles peuvent dominer l'analyse en contribuant de manière disproportionnée à la variance totale des données. Cela peut entraîner une distorsion des résultats de l'ACP, en mettant l'accent sur les features à grande échelle plutôt que sur leur structure sous-jacente. En standardisant les données, vous éliminez cette dominance potentielle et permettez à toutes les features de contribuer de manière équilibrée à l'analyse.\n",
    "\n",
    "- Faciliter l'interprétation des résultats : La standardisation des données dans le cadre de l'ACP facilite l'interprétation des résultats, car les charges des composantes principales (CP) deviennent directement interprétables. Les charges représentent les corrélations entre les features et les CP, et en standardisant les données, les charges peuvent être interprétées comme des corrélations partielles. Cela permet de mieux comprendre quelles features contribuent le plus à chaque CP et d'identifier les relations significatives entre les features et les composantes.\n",
    "\n",
    "\n",
    "\n"
   ]
  },
  {
   "cell_type": "code",
   "execution_count": 15,
   "id": "74719815",
   "metadata": {},
   "outputs": [
    {
     "data": {
      "application/vnd.jupyter.widget-view+json": {
       "model_id": "",
       "version_major": 2,
       "version_minor": 0
      },
      "text/plain": [
       "FloatProgress(value=0.0, bar_style='info', description='Progress:', layout=Layout(height='25px', width='50%'),…"
      ]
     },
     "metadata": {},
     "output_type": "display_data"
    }
   ],
   "source": [
    "# standardiser les features extractions Resnet50\n",
    "scaler = StandardScaler(withMean=True, withStd=True,\n",
    "                              inputCol='features',\n",
    "                              outputCol='features_StandardScaler')\n",
    "scaler_fit = scaler.fit(df_features_extraction_1)\n",
    "df_features_scaled = scaler_fit.transform(df_features_extraction_1)"
   ]
  },
  {
   "cell_type": "code",
   "execution_count": 16,
   "id": "d0e01c03",
   "metadata": {},
   "outputs": [
    {
     "data": {
      "application/vnd.jupyter.widget-view+json": {
       "model_id": "",
       "version_major": 2,
       "version_minor": 0
      },
      "text/plain": [
       "FloatProgress(value=0.0, bar_style='info', description='Progress:', layout=Layout(height='25px', width='50%'),…"
      ]
     },
     "metadata": {},
     "output_type": "display_data"
    },
    {
     "name": "stdout",
     "output_type": "stream",
     "text": [
      "root\n",
      " |-- path: string (nullable = true)\n",
      " |-- label: string (nullable = true)\n",
      " |-- features: vector (nullable = true)\n",
      " |-- features_StandardScaler: vector (nullable = true)\n",
      "\n",
      "+--------------------+--------------+--------------------+-----------------------+\n",
      "|                path|         label|            features|features_StandardScaler|\n",
      "+--------------------+--------------+--------------------+-----------------------+\n",
      "|s3://projet8burie...|Apple Braeburn|[0.0,0.0,0.0,0.0,...|   [0.0,0.0,0.0,0.0,...|\n",
      "|s3://projet8burie...|Apple Braeburn|[0.0,0.0,0.0,0.0,...|   [0.0,0.0,0.0,0.0,...|\n",
      "|s3://projet8burie...|         Cocos|[0.0,0.0,0.0,0.0,...|   [0.0,0.0,0.0,0.0,...|\n",
      "|s3://projet8burie...|         Cocos|[0.0,0.0,0.0,0.0,...|   [0.0,0.0,0.0,0.0,...|\n",
      "|s3://projet8burie...|         Cocos|[0.0,0.0,0.0,0.0,...|   [0.0,0.0,0.0,0.0,...|\n",
      "+--------------------+--------------+--------------------+-----------------------+\n",
      "only showing top 5 rows"
     ]
    }
   ],
   "source": [
    "# Afficher features extractions scaled avec standarscaler\n",
    "df_features_scaled.printSchema()\n",
    "df_features_scaled.show(5) "
   ]
  },
  {
   "cell_type": "markdown",
   "id": "b034fc37",
   "metadata": {},
   "source": [
    "### 2. ACP"
   ]
  },
  {
   "cell_type": "code",
   "execution_count": 17,
   "id": "7f6455de",
   "metadata": {},
   "outputs": [
    {
     "data": {
      "application/vnd.jupyter.widget-view+json": {
       "model_id": "",
       "version_major": 2,
       "version_minor": 0
      },
      "text/plain": [
       "FloatProgress(value=0.0, bar_style='info', description='Progress:', layout=Layout(height='25px', width='50%'),…"
      ]
     },
     "metadata": {},
     "output_type": "display_data"
    }
   ],
   "source": [
    "# Préparation ACP\n",
    "PCA = PCA(k=10, inputCol=\"features_StandardScaler\", outputCol=\"features_pca\")\n",
    "\n",
    "# Entrainement de notre ACP\n",
    "model_PCA_fit = PCA.fit(df_features_scaled)\n",
    "PCA_transformed = model_PCA_fit.transform(df_features_scaled)"
   ]
  },
  {
   "cell_type": "code",
   "execution_count": 18,
   "id": "da964e92",
   "metadata": {},
   "outputs": [
    {
     "data": {
      "application/vnd.jupyter.widget-view+json": {
       "model_id": "",
       "version_major": 2,
       "version_minor": 0
      },
      "text/plain": [
       "FloatProgress(value=0.0, bar_style='info', description='Progress:', layout=Layout(height='25px', width='50%'),…"
      ]
     },
     "metadata": {},
     "output_type": "display_data"
    },
    {
     "name": "stdout",
     "output_type": "stream",
     "text": [
      "root\n",
      " |-- path: string (nullable = true)\n",
      " |-- label: string (nullable = true)\n",
      " |-- features: vector (nullable = true)\n",
      " |-- features_StandardScaler: vector (nullable = true)\n",
      " |-- features_pca: vector (nullable = true)\n",
      "\n",
      "+--------------------+--------------+--------------------+-----------------------+--------------------+\n",
      "|                path|         label|            features|features_StandardScaler|        features_pca|\n",
      "+--------------------+--------------+--------------------+-----------------------+--------------------+\n",
      "|s3://projet8burie...|Apple Braeburn|[0.0,0.0,0.0,0.0,...|   [0.0,0.0,0.0,0.0,...|[21.4537935038378...|\n",
      "|s3://projet8burie...|Apple Braeburn|[0.0,0.0,0.0,0.0,...|   [0.0,0.0,0.0,0.0,...|[22.5288592661019...|\n",
      "|s3://projet8burie...|         Cocos|[0.0,0.0,0.0,0.0,...|   [0.0,0.0,0.0,0.0,...|[9.04341621303802...|\n",
      "|s3://projet8burie...|         Cocos|[0.0,0.0,0.0,0.0,...|   [0.0,0.0,0.0,0.0,...|[7.64634716531026...|\n",
      "|s3://projet8burie...|         Cocos|[0.0,0.0,0.0,0.0,...|   [0.0,0.0,0.0,0.0,...|[7.74159563113021...|\n",
      "+--------------------+--------------+--------------------+-----------------------+--------------------+\n",
      "only showing top 5 rows"
     ]
    }
   ],
   "source": [
    "# afficher dataframe avec features PCA\n",
    "PCA_transformed.printSchema()\n",
    "PCA_transformed.show(5)"
   ]
  },
  {
   "cell_type": "code",
   "execution_count": 19,
   "id": "1856f4c8",
   "metadata": {},
   "outputs": [
    {
     "data": {
      "application/vnd.jupyter.widget-view+json": {
       "model_id": "",
       "version_major": 2,
       "version_minor": 0
      },
      "text/plain": [
       "FloatProgress(value=0.0, bar_style='info', description='Progress:', layout=Layout(height='25px', width='50%'),…"
      ]
     },
     "metadata": {},
     "output_type": "display_data"
    },
    {
     "data": {
      "image/png": "[encoded data removed]",
      "text/plain": [
       "<IPython.core.display.Image object>"
      ]
     },
     "metadata": {},
     "output_type": "display_data"
    }
   ],
   "source": [
    "var = model_PCA_fit.explainedVariance.cumsum()\n",
    "\n",
    "# Graphique\n",
    "plt.figure(figsize=(8, 6))\n",
    "plt.plot(range(11), np.insert(var, 0, 0) * 100, marker=\"x\")\n",
    "plt.title(\"Graphique de variation cumulée\")\n",
    "plt.xlabel('Composante principale')\n",
    "plt.ylabel('Variance expliquée en %')\n",
    "plt.ylim(0, 100)\n",
    "plt.show()\n",
    "\n",
    "\n",
    "# pour afficher plot sur notebook EMR\n",
    "%matplot plt"
   ]
  },
  {
   "cell_type": "code",
   "execution_count": 20,
   "id": "db727d3f",
   "metadata": {},
   "outputs": [
    {
     "data": {
      "application/vnd.jupyter.widget-view+json": {
       "model_id": "",
       "version_major": 2,
       "version_minor": 0
      },
      "text/plain": [
       "FloatProgress(value=0.0, bar_style='info', description='Progress:', layout=Layout(height='25px', width='50%'),…"
      ]
     },
     "metadata": {},
     "output_type": "display_data"
    },
    {
     "name": "stdout",
     "output_type": "stream",
     "text": [
      "                                                 path  ...                                       features_pca\n",
      "0   s3://projet8buriez/Donnees/Results/Apple Braeb...  ...  [21.45379350383786, -7.836557319278415, 10.832...\n",
      "1   s3://projet8buriez/Donnees/Results/Apple Braeb...  ...  [22.528859266101982, -10.279701198386528, 6.42...\n",
      "2   s3://projet8buriez/Donnees/Results/Cocos/r_56_...  ...  [9.043416213038029, 7.28147378879395, -58.5060...\n",
      "3   s3://projet8buriez/Donnees/Results/Cocos/r_153...  ...  [7.646347165310267, 5.547783711816382, -60.871...\n",
      "4   s3://projet8buriez/Donnees/Results/Cocos/r_127...  ...  [7.741595631130213, 4.169217728468483, -64.412...\n",
      "..                                                ...  ...                                                ...\n",
      "75  s3://projet8buriez/Donnees/Results/Banana/325_...  ...  [-86.47663292065997, 146.47120687378904, 55.25...\n",
      "76  s3://projet8buriez/Donnees/Results/Banana/175_...  ...  [-138.42637661292312, 226.12991268086344, 214....\n",
      "77  s3://projet8buriez/Donnees/Results/Banana/92_1...  ...  [-183.15662658334008, 40.02523260961514, -217....\n",
      "78  s3://projet8buriez/Donnees/Results/Banana/r_11...  ...  [-106.46117629643481, 163.95049148870194, -157...\n",
      "79  s3://projet8buriez/Donnees/Results/Banana/r_10...  ...  [-144.27131037515633, 186.20591174284016, -113...\n",
      "\n",
      "[80 rows x 3 columns]"
     ]
    }
   ],
   "source": [
    "# Select colonnes et transform pandas\n",
    "transformed_final = PCA_transformed.select('path', 'label', 'features_pca')\n",
    "df_pandas = transformed_final.toPandas()\n",
    "df_pandas"
   ]
  },
  {
   "cell_type": "markdown",
   "id": "e72e892b",
   "metadata": {},
   "source": [
    "### 3. Sauvegarde des données"
   ]
  },
  {
   "cell_type": "code",
   "execution_count": 21,
   "id": "434a0805",
   "metadata": {},
   "outputs": [
    {
     "data": {
      "application/vnd.jupyter.widget-view+json": {
       "model_id": "",
       "version_major": 2,
       "version_minor": 0
      },
      "text/plain": [
       "FloatProgress(value=0.0, bar_style='info', description='Progress:', layout=Layout(height='25px', width='50%'),…"
      ]
     },
     "metadata": {},
     "output_type": "display_data"
    },
    {
     "name": "stdout",
     "output_type": "stream",
     "text": [
      "             label                                       features_pca\n",
      "0   Apple Braeburn  [21.45379350383786, -7.836557319278415, 10.832...\n",
      "1   Apple Braeburn  [22.528859266101982, -10.279701198386528, 6.42...\n",
      "2            Cocos  [9.043416213038029, 7.28147378879395, -58.5060...\n",
      "3            Cocos  [7.646347165310267, 5.547783711816382, -60.871...\n",
      "4            Cocos  [7.741595631130213, 4.169217728468483, -64.412...\n",
      "..             ...                                                ...\n",
      "75          Banana  [-86.47663292065997, 146.47120687378904, 55.25...\n",
      "76          Banana  [-138.42637661292312, 226.12991268086344, 214....\n",
      "77          Banana  [-183.15662658334008, 40.02523260961514, -217....\n",
      "78          Banana  [-106.46117629643481, 163.95049148870194, -157...\n",
      "79          Banana  [-144.27131037515633, 186.20591174284016, -113...\n",
      "\n",
      "[80 rows x 2 columns]"
     ]
    }
   ],
   "source": [
    "df_pandas[['label', 'features_pca']]"
   ]
  },
  {
   "cell_type": "code",
   "execution_count": 22,
   "id": "d3cfa684",
   "metadata": {},
   "outputs": [
    {
     "data": {
      "application/vnd.jupyter.widget-view+json": {
       "model_id": "",
       "version_major": 2,
       "version_minor": 0
      },
      "text/plain": [
       "FloatProgress(value=0.0, bar_style='info', description='Progress:', layout=Layout(height='25px', width='50%'),…"
      ]
     },
     "metadata": {},
     "output_type": "display_data"
    },
    {
     "name": "stdout",
     "output_type": "stream",
     "text": [
      "Le fichier a ete sauvegarde avec succes dans Amazon S3."
     ]
    }
   ],
   "source": [
    "# Sauvegarder le DataFrame Pandas au format CSV localement\n",
    "file_name = 'Results.csv'\n",
    "df_pandas.to_csv(file_name, index=False)\n",
    "\n",
    "# Chemin de destination sur Amazon S3\n",
    "bucket_name = 'projet8buriez'\n",
    "folder_path = 'jupyter/jovyan/'\n",
    "s3_destination_path = f's3://{bucket_name}/{folder_path}'\n",
    "\n",
    "# Envoyer le fichier CSV vers Amazon S3 en utilisant AWS CLI\n",
    "result = subprocess.run(['aws', 's3', 'cp', file_name, s3_destination_path], capture_output=True, text=True)\n",
    "\n",
    "if result.returncode == 0:\n",
    "    print(\"Le fichier a ete sauvegarde avec succes dans Amazon S3.\")\n",
    "else:\n",
    "    print(\"Une erreur s'est produite lors de la sauvegarde du fichier dans Amazon S3.\")\n",
    "    print(\"Message d'erreur :\", result.stderr)\n",
    "\n",
    "# Supprimer le fichier CSV local après l'envoi vers Amazon S3\n",
    "os.remove(file_name)"
   ]
  },
  {
   "cell_type": "markdown",
   "id": "8600d371",
   "metadata": {},
   "source": [
    "Nous avons finalisé la sauvegarde de notre fichier sur un format csv. Ce dernier est présent dans notre répertoire contenant l'ensemble de nos fichiers.\n",
    "\n",
    "Nous avons maintenu une décision de travailler avec un fichier sauvegardé en format csv pour tout projet futur en local."
   ]
  },
  {
   "cell_type": "markdown",
   "id": "0d70780b",
   "metadata": {},
   "source": [
    "## IV. Conclusion\n",
    "\n",
    "En conclusion, nous pouvons affirmer avoir réussi le déploiement d'un modèle sur le cloud, une étape fondamentale de notre projet. Grâce à l'utilisation d'AWS, nous avons pu tirer parti de ses fonctionnalités puissantes, telles que le stockage des données, la création d'un cluster et le tunneling, ainsi que l'utilisation de JupyterHub pour faciliter le développement.\n",
    "\n",
    "Nous avons réalisé avec succès les différentes étapes nécessaires à notre déploiement, notamment le chargement des PATH, le redimensionnement des images, la labelisation, l'analyse en composantes principales (ACP) et la sauvegarde des caractéristiques dans une matrice sur un fichier CSV.\n",
    "\n",
    "Cependant, il est important de souligner que ce projet n'a pas été sans défis. La création de l'architecture du Big Data a été une tâche complexe, nécessitant une planification minutieuse et une compréhension approfondie des composants et des flux de données. De plus, l'apprentissage de Pyspark, un outil puissant mais complexe, a également représenté un défi significatif pour notre équipe. Néanmoins, grâce à notre détermination et à notre engagement, nous avons pu surmonter ces difficultés et atteindre nos objectifs.\n",
    "\n",
    "Ce projet nous a permis d'acquérir une expérience précieuse dans le déploiement de modèles sur le cloud, ainsi que dans l'utilisation d'outils et de services avancés tels que AWS. Nous sommes impatients d'appliquer ces connaissances acquises dans de futurs projets et de continuer à développer nos compétences dans ce domaine en constante évolution."
   ]
  },
  {
   "cell_type": "code",
   "execution_count": null,
   "id": "24f9dc15",
   "metadata": {},
   "outputs": [],
   "source": []
  }
 ],
 "metadata": {
  "kernelspec": {
   "display_name": "PySpark",
   "language": "python",
   "name": "pysparkkernel"
  },
  "language_info": {
   "codemirror_mode": {
    "name": "python",
    "version": 3
   },
   "file_extension": ".py",
   "mimetype": "text/x-python",
   "name": "pyspark",
   "pygments_lexer": "python3"
  },
  "nbTranslate": {
   "displayLangs": [
    "*"
   ],
   "hotkey": "alt-t",
   "langInMainMenu": true,
   "sourceLang": "en",
   "targetLang": "fr",
   "useGoogleTranslate": true
  },
  "toc": {
   "base_numbering": 1,
   "nav_menu": {},
   "number_sections": true,
   "sideBar": true,
   "skip_h1_title": false,
   "title_cell": "Table of Contents",
   "title_sidebar": "Contents",
   "toc_cell": false,
   "toc_position": {},
   "toc_section_display": true,
   "toc_window_display": false
  },
  "varInspector": {
   "cols": {
    "lenName": 16,
    "lenType": 16,
    "lenVar": 40
   },
   "kernels_config": {
    "python": {
     "delete_cmd_postfix": "",
     "delete_cmd_prefix": "del ",
     "library": "var_list.py",
     "varRefreshCmd": "print(var_dic_list())"
    },
    "r": {
     "delete_cmd_postfix": ") ",
     "delete_cmd_prefix": "rm(",
     "library": "var_list.r",
     "varRefreshCmd": "cat(var_dic_list()) "
    }
   },
   "types_to_exclude": [
    "module",
    "function",
    "builtin_function_or_method",
    "instance",
    "_Feature"
   ],
   "window_display": false
  }
 },
 "nbformat": 4,
 "nbformat_minor": 5
}
